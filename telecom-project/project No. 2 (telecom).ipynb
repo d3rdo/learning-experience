{
 "cells": [
  {
   "cell_type": "markdown",
   "id": "08700826",
   "metadata": {},
   "source": [
    "# Connecting to the database"
   ]
  },
  {
   "cell_type": "markdown",
   "id": "b83c9d8c",
   "metadata": {},
   "source": [
    "The customer of this research is a large telecommunications company that provides services throughout the CIS. The company is faced with the task of determining the current level of consumer loyalty, or NPS (from the English Net Promoter Score), among customers from Russia.\n",
    "To determine the level of loyalty, customers were asked a classic question: “On a scale of 1 to 10, rate the likelihood that you would recommend the company to friends and acquaintances.”\n",
    "The company conducted a survey and asked me to prepare a dashboard with its results. They did not deploy a large database for such a task and uploaded the data to SQLite."
   ]
  },
  {
   "cell_type": "code",
   "execution_count": 1,
   "id": "fc7efa54",
   "metadata": {},
   "outputs": [],
   "source": [
    "# import the libraries necessary for further work\n",
    "\n",
    "import os\n",
    "import pandas as pd\n",
    "import numpy as np\n",
    "\n",
    "from sqlalchemy import create_engine"
   ]
  },
  {
   "cell_type": "code",
   "execution_count": 2,
   "id": "0017f8e7",
   "metadata": {},
   "outputs": [],
   "source": [
    "# paths to potential database locations\n",
    "path_to_db_local = 'telecomm_csi.db'\n",
    "path_to_db_platform = '/datasets/telecomm_csi.db'\n",
    "path_to_db = None\n",
    "\n",
    "# check if the local database exists; if not, check the platform database\n",
    "if os.path.exists(path_to_db_local):\n",
    "    path_to_db = path_to_db_local  # use local database if available\n",
    "elif os.path.exists(path_to_db_platform):\n",
    "    path_to_db = path_to_db_platform  # fallback to platform database if local is absent\n",
    "else:\n",
    "    # raise an exception if no database is found at either location\n",
    "    raise Exception('Файл с базой данных SQLite не найден!')\n",
    "\n",
    "# initialize database connection if a valid database path was determined\n",
    "if path_to_db:\n",
    "    engine = create_engine(f'sqlite:///{path_to_db}', echo=False)  # create SQLAlchemy engine without logging\n"
   ]
  },
  {
   "cell_type": "markdown",
   "id": "47be48ba",
   "metadata": {},
   "source": [
    "# Loading data"
   ]
  },
  {
   "cell_type": "code",
   "execution_count": 3,
   "id": "84ebad43",
   "metadata": {},
   "outputs": [],
   "source": [
    "query = \\\n",
    "\"\"\"\n",
    "-- define a common table expression (CTE) named ExtendedUser\n",
    "WITH ExtendedUser AS (\n",
    "  SELECT\n",
    "    *,\n",
    "    -- determine if the user is new based on the 'lt_day' field\n",
    "    CASE\n",
    "      WHEN lt_day >= 365 THEN 'no'\n",
    "      ELSE 'yes'\n",
    "    END as is_new,\n",
    "    -- classify users into NPS groups based on their 'nps_score'\n",
    "    CASE\n",
    "      WHEN nps_score <= 6 THEN 'detractors'\n",
    "      WHEN nps_score BETWEEN 7 AND 8 THEN 'passives'\n",
    "      WHEN nps_score >= 9 THEN 'promoters'\n",
    "    END as nps_group,\n",
    "    -- convert 'gender_segment' numerical codes to readable text\n",
    "    CASE\n",
    "      WHEN gender_segment == 1 THEN 'female'\n",
    "      ELSE 'male'\n",
    "    END as gender_segment_w\n",
    "  FROM\n",
    "    user\n",
    ")\n",
    "\n",
    "-- main SELECT query to retrieve user data along with related dimensional data\n",
    "SELECT\n",
    "  u.user_id,\n",
    "  u.lt_day,\n",
    "  u.is_new,\n",
    "  u.age,\n",
    "  u.gender_segment_w,\n",
    "  u.os_name,\n",
    "  u.cpe_type_name,\n",
    "  l.country,\n",
    "  l.city,\n",
    "  ags.title as age_segment,\n",
    "  ts.title as traffic_segment,\n",
    "  ls.title as lifetime_segment,\n",
    "  u.nps_score,\n",
    "  u.nps_group\n",
    "FROM\n",
    "  ExtendedUser as u  -- use the CTE defined earlier\n",
    "  JOIN location as l ON u.location_id = l.location_id \n",
    "  JOIN age_segment as ags ON u.age_gr_id = ags.age_gr_id  \n",
    "  JOIN traffic_segment as ts ON u.tr_gr_id = ts.tr_gr_id  \n",
    "  JOIN lifetime_segment as ls ON u.lt_gr_id = ls.lt_gr_id;  \n",
    "\n",
    "\"\"\""
   ]
  },
  {
   "cell_type": "code",
   "execution_count": 4,
   "id": "3965faf2",
   "metadata": {},
   "outputs": [
    {
     "data": {
      "text/html": [
       "<div>\n",
       "<style scoped>\n",
       "    .dataframe tbody tr th:only-of-type {\n",
       "        vertical-align: middle;\n",
       "    }\n",
       "\n",
       "    .dataframe tbody tr th {\n",
       "        vertical-align: top;\n",
       "    }\n",
       "\n",
       "    .dataframe thead th {\n",
       "        text-align: right;\n",
       "    }\n",
       "</style>\n",
       "<table border=\"1\" class=\"dataframe\">\n",
       "  <thead>\n",
       "    <tr style=\"text-align: right;\">\n",
       "      <th></th>\n",
       "      <th>user_id</th>\n",
       "      <th>lt_day</th>\n",
       "      <th>is_new</th>\n",
       "      <th>age</th>\n",
       "      <th>gender_segment_w</th>\n",
       "      <th>os_name</th>\n",
       "      <th>cpe_type_name</th>\n",
       "      <th>country</th>\n",
       "      <th>city</th>\n",
       "      <th>age_segment</th>\n",
       "      <th>traffic_segment</th>\n",
       "      <th>lifetime_segment</th>\n",
       "      <th>nps_score</th>\n",
       "      <th>nps_group</th>\n",
       "    </tr>\n",
       "  </thead>\n",
       "  <tbody>\n",
       "    <tr>\n",
       "      <th>0</th>\n",
       "      <td>A001A2</td>\n",
       "      <td>2320</td>\n",
       "      <td>no</td>\n",
       "      <td>45.0</td>\n",
       "      <td>female</td>\n",
       "      <td>ANDROID</td>\n",
       "      <td>SMARTPHONE</td>\n",
       "      <td>Россия</td>\n",
       "      <td>Уфа</td>\n",
       "      <td>05 45-54</td>\n",
       "      <td>04 1-5</td>\n",
       "      <td>08 36+</td>\n",
       "      <td>10</td>\n",
       "      <td>promoters</td>\n",
       "    </tr>\n",
       "    <tr>\n",
       "      <th>1</th>\n",
       "      <td>A001WF</td>\n",
       "      <td>2344</td>\n",
       "      <td>no</td>\n",
       "      <td>53.0</td>\n",
       "      <td>male</td>\n",
       "      <td>ANDROID</td>\n",
       "      <td>SMARTPHONE</td>\n",
       "      <td>Россия</td>\n",
       "      <td>Киров</td>\n",
       "      <td>05 45-54</td>\n",
       "      <td>04 1-5</td>\n",
       "      <td>08 36+</td>\n",
       "      <td>10</td>\n",
       "      <td>promoters</td>\n",
       "    </tr>\n",
       "    <tr>\n",
       "      <th>2</th>\n",
       "      <td>A003Q7</td>\n",
       "      <td>467</td>\n",
       "      <td>no</td>\n",
       "      <td>57.0</td>\n",
       "      <td>male</td>\n",
       "      <td>ANDROID</td>\n",
       "      <td>SMARTPHONE</td>\n",
       "      <td>Россия</td>\n",
       "      <td>Москва</td>\n",
       "      <td>06 55-64</td>\n",
       "      <td>08 20-25</td>\n",
       "      <td>06 13-24</td>\n",
       "      <td>10</td>\n",
       "      <td>promoters</td>\n",
       "    </tr>\n",
       "    <tr>\n",
       "      <th>3</th>\n",
       "      <td>A004TB</td>\n",
       "      <td>4190</td>\n",
       "      <td>no</td>\n",
       "      <td>44.0</td>\n",
       "      <td>female</td>\n",
       "      <td>IOS</td>\n",
       "      <td>SMARTPHONE</td>\n",
       "      <td>Россия</td>\n",
       "      <td>РостовнаДону</td>\n",
       "      <td>04 35-44</td>\n",
       "      <td>03 0.1-1</td>\n",
       "      <td>08 36+</td>\n",
       "      <td>10</td>\n",
       "      <td>promoters</td>\n",
       "    </tr>\n",
       "    <tr>\n",
       "      <th>4</th>\n",
       "      <td>A004XT</td>\n",
       "      <td>1163</td>\n",
       "      <td>no</td>\n",
       "      <td>24.0</td>\n",
       "      <td>male</td>\n",
       "      <td>ANDROID</td>\n",
       "      <td>SMARTPHONE</td>\n",
       "      <td>Россия</td>\n",
       "      <td>Рязань</td>\n",
       "      <td>02 16-24</td>\n",
       "      <td>05 5-10</td>\n",
       "      <td>08 36+</td>\n",
       "      <td>10</td>\n",
       "      <td>promoters</td>\n",
       "    </tr>\n",
       "    <tr>\n",
       "      <th>5</th>\n",
       "      <td>A005O0</td>\n",
       "      <td>5501</td>\n",
       "      <td>no</td>\n",
       "      <td>42.0</td>\n",
       "      <td>female</td>\n",
       "      <td>ANDROID</td>\n",
       "      <td>SMARTPHONE</td>\n",
       "      <td>Россия</td>\n",
       "      <td>Омск</td>\n",
       "      <td>04 35-44</td>\n",
       "      <td>05 5-10</td>\n",
       "      <td>08 36+</td>\n",
       "      <td>6</td>\n",
       "      <td>detractors</td>\n",
       "    </tr>\n",
       "    <tr>\n",
       "      <th>6</th>\n",
       "      <td>A0061R</td>\n",
       "      <td>1236</td>\n",
       "      <td>no</td>\n",
       "      <td>45.0</td>\n",
       "      <td>male</td>\n",
       "      <td>ANDROID</td>\n",
       "      <td>SMARTPHONE</td>\n",
       "      <td>Россия</td>\n",
       "      <td>Уфа</td>\n",
       "      <td>05 45-54</td>\n",
       "      <td>06 10-15</td>\n",
       "      <td>08 36+</td>\n",
       "      <td>10</td>\n",
       "      <td>promoters</td>\n",
       "    </tr>\n",
       "    <tr>\n",
       "      <th>7</th>\n",
       "      <td>A009KS</td>\n",
       "      <td>313</td>\n",
       "      <td>yes</td>\n",
       "      <td>35.0</td>\n",
       "      <td>male</td>\n",
       "      <td>ANDROID</td>\n",
       "      <td>SMARTPHONE</td>\n",
       "      <td>Россия</td>\n",
       "      <td>Москва</td>\n",
       "      <td>04 35-44</td>\n",
       "      <td>13 45-50</td>\n",
       "      <td>05 7-12</td>\n",
       "      <td>10</td>\n",
       "      <td>promoters</td>\n",
       "    </tr>\n",
       "    <tr>\n",
       "      <th>8</th>\n",
       "      <td>A00AES</td>\n",
       "      <td>3238</td>\n",
       "      <td>no</td>\n",
       "      <td>36.0</td>\n",
       "      <td>female</td>\n",
       "      <td>ANDROID</td>\n",
       "      <td>SMARTPHONE</td>\n",
       "      <td>Россия</td>\n",
       "      <td>СанктПетербург</td>\n",
       "      <td>04 35-44</td>\n",
       "      <td>04 1-5</td>\n",
       "      <td>08 36+</td>\n",
       "      <td>10</td>\n",
       "      <td>promoters</td>\n",
       "    </tr>\n",
       "    <tr>\n",
       "      <th>9</th>\n",
       "      <td>A00F70</td>\n",
       "      <td>4479</td>\n",
       "      <td>no</td>\n",
       "      <td>54.0</td>\n",
       "      <td>female</td>\n",
       "      <td>ANDROID</td>\n",
       "      <td>SMARTPHONE</td>\n",
       "      <td>Россия</td>\n",
       "      <td>Волгоград</td>\n",
       "      <td>05 45-54</td>\n",
       "      <td>07 15-20</td>\n",
       "      <td>08 36+</td>\n",
       "      <td>9</td>\n",
       "      <td>promoters</td>\n",
       "    </tr>\n",
       "  </tbody>\n",
       "</table>\n",
       "</div>"
      ],
      "text/plain": [
       "  user_id  lt_day is_new   age gender_segment_w  os_name cpe_type_name  \\\n",
       "0  A001A2    2320     no  45.0           female  ANDROID    SMARTPHONE   \n",
       "1  A001WF    2344     no  53.0             male  ANDROID    SMARTPHONE   \n",
       "2  A003Q7     467     no  57.0             male  ANDROID    SMARTPHONE   \n",
       "3  A004TB    4190     no  44.0           female      IOS    SMARTPHONE   \n",
       "4  A004XT    1163     no  24.0             male  ANDROID    SMARTPHONE   \n",
       "5  A005O0    5501     no  42.0           female  ANDROID    SMARTPHONE   \n",
       "6  A0061R    1236     no  45.0             male  ANDROID    SMARTPHONE   \n",
       "7  A009KS     313    yes  35.0             male  ANDROID    SMARTPHONE   \n",
       "8  A00AES    3238     no  36.0           female  ANDROID    SMARTPHONE   \n",
       "9  A00F70    4479     no  54.0           female  ANDROID    SMARTPHONE   \n",
       "\n",
       "  country            city age_segment traffic_segment lifetime_segment  \\\n",
       "0  Россия             Уфа    05 45-54          04 1-5           08 36+   \n",
       "1  Россия           Киров    05 45-54          04 1-5           08 36+   \n",
       "2  Россия          Москва    06 55-64        08 20-25         06 13-24   \n",
       "3  Россия    РостовнаДону    04 35-44        03 0.1-1           08 36+   \n",
       "4  Россия          Рязань    02 16-24         05 5-10           08 36+   \n",
       "5  Россия            Омск    04 35-44         05 5-10           08 36+   \n",
       "6  Россия             Уфа    05 45-54        06 10-15           08 36+   \n",
       "7  Россия          Москва    04 35-44        13 45-50          05 7-12   \n",
       "8  Россия  СанктПетербург    04 35-44          04 1-5           08 36+   \n",
       "9  Россия       Волгоград    05 45-54        07 15-20           08 36+   \n",
       "\n",
       "   nps_score   nps_group  \n",
       "0         10   promoters  \n",
       "1         10   promoters  \n",
       "2         10   promoters  \n",
       "3         10   promoters  \n",
       "4         10   promoters  \n",
       "5          6  detractors  \n",
       "6         10   promoters  \n",
       "7         10   promoters  \n",
       "8         10   promoters  \n",
       "9          9   promoters  "
      ]
     },
     "execution_count": 4,
     "metadata": {},
     "output_type": "execute_result"
    }
   ],
   "source": [
    "# check \n",
    "df = pd.read_sql(query, engine)\n",
    "df.head(10)"
   ]
  },
  {
   "cell_type": "code",
   "execution_count": 5,
   "id": "9db04858",
   "metadata": {},
   "outputs": [],
   "source": [
    "# exporting as csv to continue work in data-viz\n",
    "df.to_csv('telecomm_csi_tableau.csv', index=False)"
   ]
  },
  {
   "cell_type": "markdown",
   "id": "6b56f1b3",
   "metadata": {},
   "source": [
    "# Tableau"
   ]
  },
  {
   "cell_type": "markdown",
   "id": "35518b96",
   "metadata": {},
   "source": [
    "All other work related to analytics and explication of conclusions and insights was done in Tableau.\n",
    "\n",
    "The project is presented in the form of a story. Each slide presents one specific topic and is accompanied by conclusions and observations. There are three slides in total: about the history of the speeches, about the topics of the speeches and about the authors of the speeches. Each slide is a separate dashboard with active action elements."
   ]
  },
  {
   "cell_type": "markdown",
   "id": "56c5eef7",
   "metadata": {},
   "source": [
    "Data-viz is [here](https://public.tableau.com/app/profile/artem.aglyamov/viz/projectNo_2TELECOMNPS/Story1 \"yep, that's right, tap on me\")"
   ]
  }
 ],
 "metadata": {
  "ExecuteTimeLog": [
   {
    "duration": 559,
    "start_time": "2024-04-09T12:52:52.459Z"
   },
   {
    "duration": 67,
    "start_time": "2024-04-09T12:52:53.020Z"
   },
   {
    "duration": 3,
    "start_time": "2024-04-09T12:53:12.408Z"
   },
   {
    "duration": 431,
    "start_time": "2024-04-09T12:53:12.783Z"
   },
   {
    "duration": 0,
    "start_time": "2024-04-09T12:53:13.216Z"
   },
   {
    "duration": 594,
    "start_time": "2024-04-09T13:16:45.896Z"
   },
   {
    "duration": 58,
    "start_time": "2024-04-09T13:16:46.492Z"
   },
   {
    "duration": 3,
    "start_time": "2024-04-09T13:16:46.552Z"
   },
   {
    "duration": 3849,
    "start_time": "2024-04-09T13:16:47.719Z"
   },
   {
    "duration": 2,
    "start_time": "2024-04-09T13:17:41.423Z"
   },
   {
    "duration": 3522,
    "start_time": "2024-04-09T13:17:52.629Z"
   },
   {
    "duration": 3,
    "start_time": "2024-04-09T13:43:55.632Z"
   },
   {
    "duration": 522,
    "start_time": "2024-04-09T13:44:03.651Z"
   },
   {
    "duration": 3,
    "start_time": "2024-04-09T13:44:49.810Z"
   },
   {
    "duration": 462,
    "start_time": "2024-04-09T13:44:50.136Z"
   },
   {
    "duration": 4,
    "start_time": "2024-04-09T13:45:31.292Z"
   },
   {
    "duration": 455,
    "start_time": "2024-04-09T13:45:33.149Z"
   },
   {
    "duration": 3,
    "start_time": "2024-04-09T13:46:26.416Z"
   },
   {
    "duration": 459,
    "start_time": "2024-04-09T13:46:27.512Z"
   },
   {
    "duration": 3,
    "start_time": "2024-04-09T13:47:00.128Z"
   },
   {
    "duration": 463,
    "start_time": "2024-04-09T13:47:00.793Z"
   },
   {
    "duration": 3,
    "start_time": "2024-04-09T13:47:53.366Z"
   },
   {
    "duration": 470,
    "start_time": "2024-04-09T13:47:53.582Z"
   },
   {
    "duration": 3,
    "start_time": "2024-04-09T13:48:09.957Z"
   },
   {
    "duration": 451,
    "start_time": "2024-04-09T13:48:10.130Z"
   },
   {
    "duration": 3,
    "start_time": "2024-04-09T13:51:16.590Z"
   },
   {
    "duration": 4792,
    "start_time": "2024-04-09T13:51:17.120Z"
   },
   {
    "duration": 4,
    "start_time": "2024-04-09T13:52:14.568Z"
   },
   {
    "duration": 5180,
    "start_time": "2024-04-09T13:52:14.760Z"
   },
   {
    "duration": 3,
    "start_time": "2024-04-09T13:53:51.229Z"
   },
   {
    "duration": 5126,
    "start_time": "2024-04-09T13:53:51.398Z"
   },
   {
    "duration": 3,
    "start_time": "2024-04-09T13:56:09.436Z"
   },
   {
    "duration": 5181,
    "start_time": "2024-04-09T13:56:11.106Z"
   },
   {
    "duration": 75,
    "start_time": "2024-04-09T13:59:40.484Z"
   },
   {
    "duration": 5089,
    "start_time": "2024-04-09T13:59:40.650Z"
   },
   {
    "duration": 3,
    "start_time": "2024-04-09T13:59:47.713Z"
   },
   {
    "duration": 5083,
    "start_time": "2024-04-09T13:59:48.197Z"
   },
   {
    "duration": 3,
    "start_time": "2024-04-09T14:00:08.606Z"
   },
   {
    "duration": 5033,
    "start_time": "2024-04-09T14:00:11.503Z"
   },
   {
    "duration": 553,
    "start_time": "2024-04-09T14:00:41.704Z"
   },
   {
    "duration": 62,
    "start_time": "2024-04-09T14:00:42.258Z"
   },
   {
    "duration": 3,
    "start_time": "2024-04-09T14:00:42.322Z"
   },
   {
    "duration": 5338,
    "start_time": "2024-04-09T14:00:42.327Z"
   },
   {
    "duration": 5135,
    "start_time": "2024-04-09T14:00:47.667Z"
   },
   {
    "duration": 505,
    "start_time": "2024-04-19T08:22:02.331Z"
   },
   {
    "duration": 67,
    "start_time": "2024-04-19T08:30:18.446Z"
   },
   {
    "duration": 3,
    "start_time": "2024-04-19T08:30:20.889Z"
   },
   {
    "duration": 7,
    "start_time": "2024-04-19T08:30:21.059Z"
   },
   {
    "duration": 3,
    "start_time": "2024-04-19T08:30:24.721Z"
   },
   {
    "duration": 79,
    "start_time": "2024-04-19T08:30:24.887Z"
   },
   {
    "duration": 2,
    "start_time": "2024-04-19T08:30:25.218Z"
   },
   {
    "duration": 5340,
    "start_time": "2024-04-19T08:30:25.730Z"
   },
   {
    "duration": 5068,
    "start_time": "2024-04-19T08:30:35.902Z"
   },
   {
    "duration": 527,
    "start_time": "2024-04-19T08:46:07.249Z"
   },
   {
    "duration": 57,
    "start_time": "2024-04-19T08:46:07.778Z"
   },
   {
    "duration": 4,
    "start_time": "2024-04-19T08:46:07.836Z"
   },
   {
    "duration": 4971,
    "start_time": "2024-04-19T08:46:07.842Z"
   },
   {
    "duration": 4353,
    "start_time": "2024-04-19T08:46:12.815Z"
   }
  ],
  "kernelspec": {
   "display_name": "Python 3 (ipykernel)",
   "language": "python",
   "name": "python3"
  },
  "language_info": {
   "codemirror_mode": {
    "name": "ipython",
    "version": 3
   },
   "file_extension": ".py",
   "mimetype": "text/x-python",
   "name": "python",
   "nbconvert_exporter": "python",
   "pygments_lexer": "ipython3",
   "version": "3.9.5"
  },
  "toc": {
   "base_numbering": 1,
   "nav_menu": {},
   "number_sections": true,
   "sideBar": true,
   "skip_h1_title": true,
   "title_cell": "Table of Contents",
   "title_sidebar": "Contents",
   "toc_cell": false,
   "toc_position": {},
   "toc_section_display": true,
   "toc_window_display": false
  }
 },
 "nbformat": 4,
 "nbformat_minor": 5
}
